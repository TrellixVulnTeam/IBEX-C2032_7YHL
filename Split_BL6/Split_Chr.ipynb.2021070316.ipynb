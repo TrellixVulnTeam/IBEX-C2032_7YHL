{
 "cells": [
  {
   "cell_type": "code",
   "execution_count": 1,
   "metadata": {},
   "outputs": [],
   "source": [
    "import os\n",
    "import glob\n",
    "from collections import OrderedDict,defaultdict\n",
    "import pipes\n",
    "import pprint\n",
    "import tempfile\n",
    "import re"
   ]
  },
  {
   "cell_type": "code",
   "execution_count": 2,
   "metadata": {},
   "outputs": [],
   "source": [
    "root_dir = 'K562_Chen_data'"
   ]
  },
  {
   "cell_type": "code",
   "execution_count": 3,
   "metadata": {},
   "outputs": [],
   "source": [
    "####Fixed length 1e6 = 100 blocks. \n",
    "####Fixed length 5e5 = 200 blocks. \n",
    "Fixed_length = 1.5e6"
   ]
  },
  {
   "cell_type": "code",
   "execution_count": 4,
   "metadata": {},
   "outputs": [],
   "source": [
    "def binary_locate(array,ele,start,end):\n",
    "    middle = (end+start)//2\n",
    "    if(end-start>1):\n",
    "        if(array[middle]<ele):\n",
    "            return binary_locate(array,ele,middle,end)\n",
    "        elif(array[middle+1]>ele):\n",
    "            return binary_locate(array,ele,start,middle)\n",
    "        else:\n",
    "            return middle,middle+1\n",
    "    else:\n",
    "        return middle,middle+1"
   ]
  },
  {
   "cell_type": "code",
   "execution_count": 5,
   "metadata": {},
   "outputs": [],
   "source": [
    "p = pipes.Template()\n",
    "p.append(\"zcat\", '--')\n",
    "Gene_Loc = defaultdict(list)\n",
    "f = p.open('/home/longy/cnda/ensembl/Homo_sapiens.GRCh38.103.gtf.gz', 'r')\n",
    "\n",
    "#f = p.open('/home/longy/cnda/ensembl/Mus_musculus.GRCm38.102.gtf.gz', 'r')\n",
    "for line in f.readlines():\n",
    "    if re.match('^#',line):\n",
    "        continue\n",
    "    line = line.rstrip('\\n')\n",
    "    data = line.split('\\t')\n",
    "    if(data[2] == 'gene'):\n",
    "        Gene_Loc['chr'+data[0]+data[6]].append(int(data[3]))\n",
    "        Gene_Loc['chr'+data[0]+data[6]].append(int(data[4]))"
   ]
  },
  {
   "cell_type": "code",
   "execution_count": 6,
   "metadata": {},
   "outputs": [
    {
     "data": {
      "text/plain": [
       "(1523, 1524)"
      ]
     },
     "execution_count": 6,
     "metadata": {},
     "output_type": "execute_result"
    }
   ],
   "source": [
    "import sys\n",
    "sys.setrecursionlimit(10000)\n",
    "array = Gene_Loc['chr1+']\n",
    "binary_locate(array,46104790,0,3505)"
   ]
  },
  {
   "cell_type": "code",
   "execution_count": 7,
   "metadata": {},
   "outputs": [
    {
     "name": "stdout",
     "output_type": "stream",
     "text": [
      "writing file K562_Chen_data/Blocks/chr18_-_0_47966-36129805\n",
      "writing file K562_Chen_data/Blocks/chr18_-_1_36154863-80247429\n",
      "writing file K562_Chen_data/Blocks/chr20_-_0_214924-30631157\n",
      "writing file K562_Chen_data/Blocks/chr20_-_1_30633372-46035582\n",
      "writing file K562_Chen_data/Blocks/chr20_-_2_46043584-64333153\n",
      "writing file K562_Chen_data/Blocks/chr20_+_0_130003-29489322\n",
      "writing file K562_Chen_data/Blocks/chr20_+_1_29490793-45083659\n",
      "writing file K562_Chen_data/Blocks/chr20_+_2_45085356-64329721\n",
      "writing file K562_Chen_data/Blocks/chr2_-_0_39326-27393724\n",
      "writing file K562_Chen_data/Blocks/chr2_-_1_27397702-54272101\n",
      "writing file K562_Chen_data/Blocks/chr2_-_2_54274069-73816760\n",
      "writing file K562_Chen_data/Blocks/chr2_-_3_73820320-99156435\n",
      "writing file K562_Chen_data/Blocks/chr2_-_4_99159654-127799050\n",
      "writing file K562_Chen_data/Blocks/chr2_-_5_127801322-159616589\n",
      "writing file K562_Chen_data/Blocks/chr2_-_6_159635145-185421330\n",
      "writing file K562_Chen_data/Blocks/chr2_-_7_185450138-212429415\n",
      "writing file K562_Chen_data/Blocks/chr2_-_8_212537045-242180305\n",
      "writing file K562_Chen_data/Blocks/chr5_+_0_50730-32604137\n",
      "writing file K562_Chen_data/Blocks/chr5_+_1_32605209-65643611\n",
      "writing file K562_Chen_data/Blocks/chr5_+_2_65645540-85891322\n",
      "writing file K562_Chen_data/Blocks/chr5_+_3_85933917-109870697\n",
      "writing file K562_Chen_data/Blocks/chr5_+_4_109872193-135258534\n",
      "writing file K562_Chen_data/Blocks/chr5_+_5_135261764-154461091\n",
      "writing file K562_Chen_data/Blocks/chr5_+_6_154468873-181478096\n",
      "writing file K562_Chen_data/Blocks/chr12_+_0_11688-19562597\n",
      "writing file K562_Chen_data/Blocks/chr12_+_1_19571472-48242632\n",
      "writing file K562_Chen_data/Blocks/chr12_+_2_48244878-63809581\n",
      "writing file K562_Chen_data/Blocks/chr12_+_3_63822087-95516143\n",
      "writing file K562_Chen_data/Blocks/chr12_+_4_95548038-116576806\n",
      "writing file K562_Chen_data/Blocks/chr12_+_5_116578015-133225754\n",
      "writing file K562_Chen_data/Blocks/chr17_-_0_61686-16198707\n",
      "writing file K562_Chen_data/Blocks/chr17_-_1_16203641-37626849\n",
      "writing file K562_Chen_data/Blocks/chr17_-_2_37628487-47857090\n",
      "writing file K562_Chen_data/Blocks/chr17_-_3_47864439-68457502\n",
      "writing file K562_Chen_data/Blocks/chr17_-_4_68491817-83241808\n"
     ]
    },
    {
     "ename": "KeyboardInterrupt",
     "evalue": "",
     "output_type": "error",
     "traceback": [
      "\u001b[0;31m---------------------------------------------------------------------------\u001b[0m",
      "\u001b[0;31mKeyboardInterrupt\u001b[0m                         Traceback (most recent call last)",
      "\u001b[0;32m<ipython-input-7-8458f25042b8>\u001b[0m in \u001b[0;36m<module>\u001b[0;34m\u001b[0m\n\u001b[1;32m      4\u001b[0m \u001b[0minfo\u001b[0m\u001b[0;34m.\u001b[0m\u001b[0mwrite\u001b[0m\u001b[0;34m(\u001b[0m\u001b[0;34m'ID\\tstart\\tend\\tlength\\tsites_num\\n'\u001b[0m\u001b[0;34m)\u001b[0m\u001b[0;34m\u001b[0m\u001b[0;34m\u001b[0m\u001b[0m\n\u001b[1;32m      5\u001b[0m \u001b[0;32mfor\u001b[0m \u001b[0mfile\u001b[0m \u001b[0;32min\u001b[0m \u001b[0mfiles\u001b[0m\u001b[0;34m:\u001b[0m\u001b[0;34m\u001b[0m\u001b[0;34m\u001b[0m\u001b[0m\n\u001b[0;32m----> 6\u001b[0;31m     \u001b[0mnum_lines\u001b[0m \u001b[0;34m=\u001b[0m \u001b[0msum\u001b[0m\u001b[0;34m(\u001b[0m\u001b[0;36m1\u001b[0m \u001b[0;32mfor\u001b[0m \u001b[0mline\u001b[0m \u001b[0;32min\u001b[0m \u001b[0mopen\u001b[0m\u001b[0;34m(\u001b[0m\u001b[0mfile\u001b[0m\u001b[0;34m)\u001b[0m\u001b[0;34m)\u001b[0m\u001b[0;34m\u001b[0m\u001b[0;34m\u001b[0m\u001b[0m\n\u001b[0m\u001b[1;32m      7\u001b[0m     \u001b[0mnum_blocks\u001b[0m \u001b[0;34m=\u001b[0m \u001b[0mround\u001b[0m\u001b[0;34m(\u001b[0m\u001b[0mnum_lines\u001b[0m\u001b[0;34m/\u001b[0m\u001b[0mFixed_length\u001b[0m\u001b[0;34m)\u001b[0m\u001b[0;34m\u001b[0m\u001b[0;34m\u001b[0m\u001b[0m\n\u001b[1;32m      8\u001b[0m     \u001b[0mlen_blocks\u001b[0m \u001b[0;34m=\u001b[0m \u001b[0mnum_lines\u001b[0m\u001b[0;34m/\u001b[0m\u001b[0mnum_blocks\u001b[0m\u001b[0;34m\u001b[0m\u001b[0;34m\u001b[0m\u001b[0m\n",
      "\u001b[0;32m<ipython-input-7-8458f25042b8>\u001b[0m in \u001b[0;36m<genexpr>\u001b[0;34m(.0)\u001b[0m\n\u001b[1;32m      4\u001b[0m \u001b[0minfo\u001b[0m\u001b[0;34m.\u001b[0m\u001b[0mwrite\u001b[0m\u001b[0;34m(\u001b[0m\u001b[0;34m'ID\\tstart\\tend\\tlength\\tsites_num\\n'\u001b[0m\u001b[0;34m)\u001b[0m\u001b[0;34m\u001b[0m\u001b[0;34m\u001b[0m\u001b[0m\n\u001b[1;32m      5\u001b[0m \u001b[0;32mfor\u001b[0m \u001b[0mfile\u001b[0m \u001b[0;32min\u001b[0m \u001b[0mfiles\u001b[0m\u001b[0;34m:\u001b[0m\u001b[0;34m\u001b[0m\u001b[0;34m\u001b[0m\u001b[0m\n\u001b[0;32m----> 6\u001b[0;31m     \u001b[0mnum_lines\u001b[0m \u001b[0;34m=\u001b[0m \u001b[0msum\u001b[0m\u001b[0;34m(\u001b[0m\u001b[0;36m1\u001b[0m \u001b[0;32mfor\u001b[0m \u001b[0mline\u001b[0m \u001b[0;32min\u001b[0m \u001b[0mopen\u001b[0m\u001b[0;34m(\u001b[0m\u001b[0mfile\u001b[0m\u001b[0;34m)\u001b[0m\u001b[0;34m)\u001b[0m\u001b[0;34m\u001b[0m\u001b[0;34m\u001b[0m\u001b[0m\n\u001b[0m\u001b[1;32m      7\u001b[0m     \u001b[0mnum_blocks\u001b[0m \u001b[0;34m=\u001b[0m \u001b[0mround\u001b[0m\u001b[0;34m(\u001b[0m\u001b[0mnum_lines\u001b[0m\u001b[0;34m/\u001b[0m\u001b[0mFixed_length\u001b[0m\u001b[0;34m)\u001b[0m\u001b[0;34m\u001b[0m\u001b[0;34m\u001b[0m\u001b[0m\n\u001b[1;32m      8\u001b[0m     \u001b[0mlen_blocks\u001b[0m \u001b[0;34m=\u001b[0m \u001b[0mnum_lines\u001b[0m\u001b[0;34m/\u001b[0m\u001b[0mnum_blocks\u001b[0m\u001b[0;34m\u001b[0m\u001b[0;34m\u001b[0m\u001b[0m\n",
      "\u001b[0;32m~/anaconda3/envs/ML/lib/python3.7/codecs.py\u001b[0m in \u001b[0;36mdecode\u001b[0;34m(self, input, final)\u001b[0m\n\u001b[1;32m    317\u001b[0m         \u001b[0;32mraise\u001b[0m \u001b[0mNotImplementedError\u001b[0m\u001b[0;34m\u001b[0m\u001b[0;34m\u001b[0m\u001b[0m\n\u001b[1;32m    318\u001b[0m \u001b[0;34m\u001b[0m\u001b[0m\n\u001b[0;32m--> 319\u001b[0;31m     \u001b[0;32mdef\u001b[0m \u001b[0mdecode\u001b[0m\u001b[0;34m(\u001b[0m\u001b[0mself\u001b[0m\u001b[0;34m,\u001b[0m \u001b[0minput\u001b[0m\u001b[0;34m,\u001b[0m \u001b[0mfinal\u001b[0m\u001b[0;34m=\u001b[0m\u001b[0;32mFalse\u001b[0m\u001b[0;34m)\u001b[0m\u001b[0;34m:\u001b[0m\u001b[0;34m\u001b[0m\u001b[0;34m\u001b[0m\u001b[0m\n\u001b[0m\u001b[1;32m    320\u001b[0m         \u001b[0;31m# decode input (taking the buffer into account)\u001b[0m\u001b[0;34m\u001b[0m\u001b[0;34m\u001b[0m\u001b[0;34m\u001b[0m\u001b[0m\n\u001b[1;32m    321\u001b[0m         \u001b[0mdata\u001b[0m \u001b[0;34m=\u001b[0m \u001b[0mself\u001b[0m\u001b[0;34m.\u001b[0m\u001b[0mbuffer\u001b[0m \u001b[0;34m+\u001b[0m \u001b[0minput\u001b[0m\u001b[0;34m\u001b[0m\u001b[0;34m\u001b[0m\u001b[0m\n",
      "\u001b[0;31mKeyboardInterrupt\u001b[0m: "
     ]
    }
   ],
   "source": [
    "total = 0\n",
    "files = glob.glob(root_dir+\"/*.txt\")\n",
    "info = open(root_dir+'/Blocks/info.txt','w')\n",
    "info.write('ID\\tstart\\tend\\tlength\\tsites_num\\n')\n",
    "for file in files:\n",
    "    num_lines = sum(1 for line in open(file))\n",
    "    num_blocks = round(num_lines/Fixed_length)\n",
    "    len_blocks = num_lines/num_blocks\n",
    "    \n",
    "    f= open(file,'r')\n",
    "    pre_pos = 0\n",
    "    dict_line = OrderedDict()\n",
    "    #dict_line = dict()\n",
    "    count = 0\n",
    "    separate_num=0\n",
    "    save_block = 0\n",
    "    start = 0\n",
    "    \n",
    "    for i, line in enumerate(f):\n",
    "        line = line.rstrip('\\n')\n",
    "        if(i==0):\n",
    "            continue ###Skip header\n",
    "        chromosome,pos,strand = line.split('\\t')[0].split(':')\n",
    "        pos = int(pos)\n",
    "        count += 1\n",
    "        if(i==1):\n",
    "            start=pos\n",
    "        if(count>len_blocks and pos-pre_pos>1000 and save_block<num_blocks-1):\n",
    "            array = Gene_Loc[chromosome+strand]\n",
    "            index1,index2 = binary_locate(array,pre_pos,0,len(array)-1)\n",
    "            if(index1%2==1 and index2%2==0):\n",
    "                ww = open(root_dir+'/Blocks/%s_%s_%d'%(chromosome,strand,save_block),'w')\n",
    "                print('writing file '+root_dir+'/Blocks/%s_%s_%d_%d-%d'%(chromosome,strand,save_block,start,pre_pos))\n",
    "                info.write('%s_%s_%d\\t%d\\t%d\\t%d\\t%d\\n'%(chromosome,strand,save_block,start,pre_pos,pre_pos-start,count))\n",
    "                #print('%s_%s_%d\\t%d\\t%d\\t%d\\t%d\\n'%(chromosome,strand,save_block,start,pre_pos,pre_pos-start,count))\n",
    "                for key,val in dict_line.items():\n",
    "                    ww.write('%s\\n'%val)\n",
    "                ww.close()\n",
    "                dict_line.clear()\n",
    "                count = 0\n",
    "                save_block += 1\n",
    "                start  = pos\n",
    "            \n",
    "        \n",
    "        dict_line[pos] = line\n",
    "        pre_pos = pos\n",
    "        \n",
    "    out = open(root_dir+'/Blocks/%s_%s_%d'%(chromosome,strand,save_block),'w')\n",
    "    print('writing file '+root_dir+'/Blocks/%s_%s_%d_%d-%d'%(chromosome,strand,save_block,start,pre_pos))\n",
    "    info.write('%s_%s_%d\\t%d\\t%d\\t%d\\t%d\\n'%(chromosome,strand,save_block,start,pre_pos,pre_pos-start,count))\n",
    "    for key,val in dict_line.items():\n",
    "        out.write('%s\\n'%(val))\n",
    "    out.close()\n",
    "\n",
    "info.close()"
   ]
  },
  {
   "cell_type": "code",
   "execution_count": 12,
   "metadata": {},
   "outputs": [
    {
     "name": "stdout",
     "output_type": "stream",
     "text": [
      "8688341\n"
     ]
    }
   ],
   "source": [
    "text_file = open(\"STAR/HepG2_Control/Signal.Unique.str1.out.chr10.wig\", \"r\")\n",
    "lines = text_file.readlines()\n",
    "text_file.close()\n",
    "print(len(lines))"
   ]
  },
  {
   "cell_type": "code",
   "execution_count": 14,
   "metadata": {},
   "outputs": [],
   "source": [
    "import sys\n",
    "sys.path.insert(0, '/home/longy/project/python_lib')\n",
    "from TrimmedMean import TrimmedMean"
   ]
  },
  {
   "cell_type": "code",
   "execution_count": 32,
   "metadata": {},
   "outputs": [],
   "source": [
    "fa_file = open(\"/ibex/scratch/longy/cnda/ensembl/oneLine/hg38.22.fa\",\"r\")"
   ]
  },
  {
   "cell_type": "code",
   "execution_count": 33,
   "metadata": {},
   "outputs": [],
   "source": [
    "line = fa_file.readline()"
   ]
  },
  {
   "cell_type": "code",
   "execution_count": 36,
   "metadata": {},
   "outputs": [],
   "source": [
    "a = line[300:400]"
   ]
  },
  {
   "cell_type": "code",
   "execution_count": 37,
   "metadata": {},
   "outputs": [
    {
     "data": {
      "text/plain": [
       "'NNNNNNNNNNNNNNNNNNNNNNNNNNNNNNNNNNNNNNNNNNNNNNNNNNNNNNNNNNNNNNNNNNNNNNNNNNNNNNNNNNNNNNNNNNNNNNNNNNNN'"
      ]
     },
     "execution_count": 37,
     "metadata": {},
     "output_type": "execute_result"
    }
   ],
   "source": [
    "a"
   ]
  },
  {
   "cell_type": "code",
   "execution_count": 38,
   "metadata": {},
   "outputs": [],
   "source": [
    "fa_file.close()"
   ]
  },
  {
   "cell_type": "code",
   "execution_count": 46,
   "metadata": {},
   "outputs": [
    {
     "name": "stdout",
     "output_type": "stream",
     "text": [
      "AFTA\n"
     ]
    }
   ],
   "source": [
    "a = 'afta'\n",
    "a = a.upper()\n",
    "print(a)"
   ]
  },
  {
   "cell_type": "code",
   "execution_count": 67,
   "metadata": {},
   "outputs": [],
   "source": [
    "import re\n",
    "string = 'TTTCTGCTGTAGAGTCTGGCAT'\n",
    "match = re.findall('GT',string)"
   ]
  },
  {
   "cell_type": "code",
   "execution_count": 68,
   "metadata": {},
   "outputs": [
    {
     "data": {
      "text/plain": [
       "['GT', 'GT']"
      ]
     },
     "execution_count": 68,
     "metadata": {},
     "output_type": "execute_result"
    }
   ],
   "source": [
    "match"
   ]
  },
  {
   "cell_type": "code",
   "execution_count": 58,
   "metadata": {},
   "outputs": [
    {
     "data": {
      "text/plain": [
       "(9, 12)"
      ]
     },
     "execution_count": 58,
     "metadata": {},
     "output_type": "execute_result"
    }
   ],
   "source": [
    "match.span()"
   ]
  },
  {
   "cell_type": "code",
   "execution_count": 87,
   "metadata": {},
   "outputs": [],
   "source": [
    "string = 'fd#faatag.gz.fafa'"
   ]
  },
  {
   "cell_type": "code",
   "execution_count": 88,
   "metadata": {},
   "outputs": [
    {
     "name": "stdout",
     "output_type": "stream",
     "text": [
      "not found\n"
     ]
    }
   ],
   "source": [
    "if re.findall('^#',string):\n",
    "    print('find')\n",
    "else:\n",
    "    print('not found')"
   ]
  },
  {
   "cell_type": "code",
   "execution_count": 108,
   "metadata": {},
   "outputs": [
    {
     "data": {
      "text/plain": [
       "0.06320255234152405"
      ]
     },
     "execution_count": 108,
     "metadata": {},
     "output_type": "execute_result"
    }
   ],
   "source": [
    "import random\n",
    "random.random()"
   ]
  },
  {
   "cell_type": "code",
   "execution_count": 114,
   "metadata": {},
   "outputs": [
    {
     "data": {
      "text/plain": [
       "[3.0, 5.0]"
      ]
     },
     "execution_count": 114,
     "metadata": {},
     "output_type": "execute_result"
    }
   ],
   "source": [
    "coverage = ['3','5','45','34']\n",
    "[float(coverage[i]) for i in range(int(len(coverage)/2))]"
   ]
  },
  {
   "cell_type": "code",
   "execution_count": 116,
   "metadata": {},
   "outputs": [
    {
     "data": {
      "text/plain": [
       "4"
      ]
     },
     "execution_count": 116,
     "metadata": {},
     "output_type": "execute_result"
    }
   ],
   "source": [
    "import math\n",
    "round(3.5)"
   ]
  },
  {
   "cell_type": "code",
   "execution_count": 117,
   "metadata": {},
   "outputs": [],
   "source": [
    "a = '-3'\n",
    "a = float(a)"
   ]
  },
  {
   "cell_type": "code",
   "execution_count": 119,
   "metadata": {},
   "outputs": [
    {
     "data": {
      "text/plain": [
       "4"
      ]
     },
     "execution_count": 119,
     "metadata": {},
     "output_type": "execute_result"
    }
   ],
   "source": [
    "round(4.5)"
   ]
  },
  {
   "cell_type": "code",
   "execution_count": 122,
   "metadata": {},
   "outputs": [
    {
     "data": {
      "text/plain": [
       "True"
      ]
     },
     "execution_count": 122,
     "metadata": {},
     "output_type": "execute_result"
    }
   ],
   "source": [
    "a = 'Origin'\n",
    "'Origin' in a"
   ]
  },
  {
   "cell_type": "code",
   "execution_count": null,
   "metadata": {},
   "outputs": [],
   "source": []
  }
 ],
 "metadata": {
  "kernelspec": {
   "display_name": "Python 3",
   "language": "python",
   "name": "python3"
  },
  "language_info": {
   "codemirror_mode": {
    "name": "ipython",
    "version": 3
   },
   "file_extension": ".py",
   "mimetype": "text/x-python",
   "name": "python",
   "nbconvert_exporter": "python",
   "pygments_lexer": "ipython3",
   "version": "3.7.3"
  }
 },
 "nbformat": 4,
 "nbformat_minor": 4
}
